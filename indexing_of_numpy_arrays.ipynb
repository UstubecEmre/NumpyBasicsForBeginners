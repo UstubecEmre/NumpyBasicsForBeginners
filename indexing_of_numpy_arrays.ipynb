{
 "cells": [
  {
   "cell_type": "markdown",
   "id": "dba513c4",
   "metadata": {},
   "source": [
    "# Indexing Of Numpy Arrays"
   ]
  },
  {
   "cell_type": "code",
   "execution_count": 1,
   "id": "88121291",
   "metadata": {},
   "outputs": [],
   "source": [
    "# import NumPy\n",
    "import numpy as np"
   ]
  },
  {
   "cell_type": "code",
   "execution_count": null,
   "id": "652fc124",
   "metadata": {},
   "outputs": [
    {
     "name": "stdout",
     "output_type": "stream",
     "text": [
      "Element with the second index: 4 \n",
      "Last item of np_arr: 6\n",
      "sliced_arr: [1 8 4 7]\n",
      "Last three items: [9 3 6]\n",
      "reversed_np_arr: [6 3 9 7 4 8 1]\n"
     ]
    }
   ],
   "source": [
    "# create a numpy array\n",
    "np_arr = np.array([1, 8, 4, 7, 9, 3, 6])\n",
    "\n",
    "# indexing \n",
    "second_index_item = np_arr[2] # 4\n",
    "print(f\"Element with the second index: {second_index_item} \")\n",
    "last_item = np_arr[-1]\n",
    "print(f\"Last item of np_arr: {last_item}\")\n",
    "\n",
    "\n",
    "sliced_arr = np_arr[0 : 4] \n",
    "print(f\"sliced_arr: {sliced_arr}\")\n",
    "\n",
    "sliced_arr_2 = np_arr[4:]\n",
    "print(f\"Last three items: {sliced_arr_2}\")\n",
    "\n",
    "reversed_np_arr = np_arr[::-1]\n",
    "print(f\"reversed_np_arr: {reversed_np_arr}\") \n",
    "\n"
   ]
  },
  {
   "cell_type": "code",
   "execution_count": 13,
   "id": "b19247d2",
   "metadata": {},
   "outputs": [
    {
     "name": "stdout",
     "output_type": "stream",
     "text": [
      "First item of multi_dim_arr: [1 7 8 2]\n",
      "Second item of multi_dim_arr: [9 3 7 6]\n",
      "Third item of multi_dim_arr: [5 9 0 4]\n",
      "First element of multi_dim_arr: 1\n",
      "Second column of multi_dim_arr: [8 7 0]\n",
      "First column of multi_dim_arr: [1 9 5]\n",
      "Selected multiple_columns: [[1 7]\n",
      " [9 3]\n",
      " [5 9]]\n",
      "Last column of multi_dim_arr: [5 9 0 4]\n",
      "New sliced arr: [[1 7]\n",
      " [9 3]]\n"
     ]
    }
   ],
   "source": [
    "multi_dim_arr = np.array([[1, 7, 8, 2], [9, 3, 7, 6], [5, 9, 0, 4]])\n",
    "\n",
    "first_item = multi_dim_arr[0]\n",
    "print(f\"First item of multi_dim_arr: {first_item}\")\n",
    "second_item = multi_dim_arr[1]\n",
    "print(f\"Second item of multi_dim_arr: {second_item}\")\n",
    "third_item = multi_dim_arr[2]\n",
    "print(f\"Third item of multi_dim_arr: {third_item}\")\n",
    "\n",
    "first_element = multi_dim_arr[0][0]\n",
    "print(f\"First element of multi_dim_arr: {first_element}\")\n",
    "\n",
    "\n",
    "all_rows_second_col = multi_dim_arr[:, 2] # select all rows and only second column\n",
    "print(f\"Second column of multi_dim_arr: {all_rows_second_col}\")\n",
    "\n",
    "first_column = multi_dim_arr[:, 0]\n",
    "print(f\"First column of multi_dim_arr: {first_column}\")\n",
    "\n",
    "multiple_columns = multi_dim_arr[:, 0 : 2] # 2 not include\n",
    "print(f\"Selected multiple_columns: {multiple_columns}\")\n",
    "\n",
    "last_column = multi_dim_arr[-1, :]\n",
    "print(f\"Last column of multi_dim_arr: {last_column}\")\n",
    "\n",
    "new_sliced_arr = multi_dim_arr[:2, :2]\n",
    "print(f\"New sliced arr: {new_sliced_arr}\")"
   ]
  },
  {
   "cell_type": "code",
   "execution_count": null,
   "id": "ab5fc974",
   "metadata": {},
   "outputs": [
    {
     "name": "stdout",
     "output_type": "stream",
     "text": [
      "num_array:  [ 0.          3.33333333  6.66666667 10.         13.33333333 16.66666667\n",
      " 20.        ]\n",
      "****************** The difference between num_array and num_array2 ******************\n",
      "**************************************************\n",
      "num_array: [ 0.          3.33333333  6.66666667 10.         13.33333333 16.66666667\n",
      " 20.        ]\n",
      " num_array2: [ 0.          3.33333333  7.         10.         13.33333333 16.66666667\n",
      " 20.        ]\n"
     ]
    }
   ],
   "source": [
    "# Copy method\n",
    "num_array = np.linspace(0, 20, 7)\n",
    "print(\"num_array: \", num_array)\n",
    "\n",
    "num_array2 = num_array.copy()\n",
    "num_array2[2] = 7\n",
    "print(\"*\"*18, \"The difference between num_array and num_array2\",\"*\"*18)\n",
    "\n",
    "print(f\"num_array: {num_array}\\n num_array2: {num_array2}\") # arrays are normally of reference type"
   ]
  },
  {
   "cell_type": "code",
   "execution_count": null,
   "id": "2abe090e",
   "metadata": {},
   "outputs": [],
   "source": []
  }
 ],
 "metadata": {
  "kernelspec": {
   "display_name": "base",
   "language": "python",
   "name": "python3"
  },
  "language_info": {
   "codemirror_mode": {
    "name": "ipython",
    "version": 3
   },
   "file_extension": ".py",
   "mimetype": "text/x-python",
   "name": "python",
   "nbconvert_exporter": "python",
   "pygments_lexer": "ipython3",
   "version": "3.11.7"
  }
 },
 "nbformat": 4,
 "nbformat_minor": 5
}
