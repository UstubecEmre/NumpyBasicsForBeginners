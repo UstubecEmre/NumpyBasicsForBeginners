{
 "cells": [
  {
   "cell_type": "markdown",
   "id": "dba513c4",
   "metadata": {},
   "source": [
    "# Indexing Of Numpy Arrays"
   ]
  },
  {
   "cell_type": "code",
   "execution_count": 1,
   "id": "88121291",
   "metadata": {},
   "outputs": [],
   "source": [
    "# import NumPy\n",
    "import numpy as np"
   ]
  },
  {
   "cell_type": "code",
   "execution_count": null,
   "id": "652fc124",
   "metadata": {},
   "outputs": [],
   "source": [
    "# create a numpy array\n",
    "np_arr = np.array([1, 8, 4, 7, 9, 3, 6])\n",
    "\n",
    "# indexing \n",
    "second_index_item = np_arr[2] # 4\n",
    "print(f\"Element with the second index: {second_index_item} \")\n",
    "last_item = np_arr[-1]\n",
    "print(f\"Last item of np_arr: {last_item}\")\n",
    "\n",
    "\n",
    "sliced_arr = np_arr[0 : 4] \n",
    "print(f\"sliced_arr: {sliced_arr}\")\n",
    "\n",
    "sliced_arr_2 = np_arr[4:]\n",
    "print(f\"Last three items: {sliced_arr_2}\")\n",
    "\n",
    "reversed_np_arr = np_arr[::-1]\n",
    "print(f\"reversed_np_arr: {reversed_np_arr}\") "
   ]
  }
 ],
 "metadata": {
  "kernelspec": {
   "display_name": "base",
   "language": "python",
   "name": "python3"
  },
  "language_info": {
   "codemirror_mode": {
    "name": "ipython",
    "version": 3
   },
   "file_extension": ".py",
   "mimetype": "text/x-python",
   "name": "python",
   "nbconvert_exporter": "python",
   "pygments_lexer": "ipython3",
   "version": "3.11.7"
  }
 },
 "nbformat": 4,
 "nbformat_minor": 5
}
