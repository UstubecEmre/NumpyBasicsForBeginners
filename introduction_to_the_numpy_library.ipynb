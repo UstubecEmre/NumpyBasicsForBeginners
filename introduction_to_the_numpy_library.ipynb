{
 "cells": [
  {
   "cell_type": "markdown",
   "id": "77d0e8c6",
   "metadata": {},
   "source": [
    "# 1. What is NumPy\n",
    "=> NumPy (short for Numerical Python) is a fundamental Python library used for numerical computing, especially with large, multi-dimensional arrays and matrices.\n",
    "\n",
    "# 2. Why It's Important?\n",
    "o NumPy is the foundation for data science, machine learning, and scientific computing in Python.\n",
    "\n",
    "oMost other libraries like Pandas, Scikit-learn, TensorFlow, etc. rely on NumPy arrays under the hood.\n",
    "\n",
    "# 3. Key Features of NumPy\n",
    "x ndarray: Efficient n-dimensional array object.\n",
    "\n",
    "x Fast operations: Vectorized operations (addition, multiplication, etc.) are much faster than Python loops.\n",
    "\n",
    "x Broadcasting: Enables arithmetic operations between arrays of different shapes.\n",
    "\n",
    "x Mathematical functions: Includes linear algebra, statistics, random number generation, Fourier transforms, and more.\n",
    "\n",
    "x Interoperability: Works well with other libraries like Pandas, SciPy, Scikit-learn, TensorFlow, etc.\n",
    "\n",
    "# 4 Import NumPy\n",
    "import numpy as np "
   ]
  },
  {
   "cell_type": "code",
   "execution_count": 1,
   "id": "01a3c454",
   "metadata": {},
   "outputs": [],
   "source": [
    "# import numpy\n",
    "import numpy as np "
   ]
  },
  {
   "cell_type": "code",
   "execution_count": null,
   "id": "e07a45b9",
   "metadata": {},
   "outputs": [
    {
     "name": "stdout",
     "output_type": "stream",
     "text": [
      "************** Basic List Operations *************\n",
      "Type of py_list: <class 'list'>\n",
      "Original py_list: [1, 4, 7, 8, 74, 45, 98, 19, 87]\n",
      "**************************************************\n",
      "[1, 7, 8, 74, 45, 98, 19, 87]\n",
      "**************************************************\n",
      "[1, 7, 8, 59, 74, 45, 98, 19, 87]\n",
      "**************************************************\n",
      "Length of py_list: 9\n"
     ]
    }
   ],
   "source": [
    "# create a list of numbers\n",
    "py_list = [1, 4, 7, 8, 74, 45, 98, 19]\n",
    "\n",
    "# append a number to the list\n",
    "py_list.append(87)\n",
    "print(\"*\"*14,\"Basic List Operations\",\"*\"*13)\n",
    "print(f\"Type of py_list: {type(py_list)}\\nOriginal py_list: {py_list}\")\n",
    "print(\"*\"*50)\n",
    "\n",
    "# remove a number from the list\n",
    "py_list.remove(4)\n",
    "print(py_list)\n",
    "print(\"*\"*50)\n",
    "\n",
    "py_list.insert(3, 59)\n",
    "print(py_list)\n",
    "print(\"*\"*50)\n",
    "\n",
    "print(f\"Length of py_list: {len(py_list)}\")\n",
    "print(\"*\"*50)"
   ]
  },
  {
   "cell_type": "code",
   "execution_count": null,
   "id": "f1d14dbf",
   "metadata": {},
   "outputs": [],
   "source": [
    "# create a numpy array\n",
    "\n",
    "np_array = np.array([84, 74, 54, 62, 12, 16, 98, 87, 65, 30, 15])"
   ]
  }
 ],
 "metadata": {
  "kernelspec": {
   "display_name": "base",
   "language": "python",
   "name": "python3"
  },
  "language_info": {
   "codemirror_mode": {
    "name": "ipython",
    "version": 3
   },
   "file_extension": ".py",
   "mimetype": "text/x-python",
   "name": "python",
   "nbconvert_exporter": "python",
   "pygments_lexer": "ipython3",
   "version": "3.11.7"
  }
 },
 "nbformat": 4,
 "nbformat_minor": 5
}
