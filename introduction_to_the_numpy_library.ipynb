{
 "cells": [
  {
   "cell_type": "markdown",
   "id": "77d0e8c6",
   "metadata": {},
   "source": [
    "# 1. What is NumPy\n",
    "=> NumPy (short for Numerical Python) is a fundamental Python library used for numerical computing, especially with large, multi-dimensional arrays and matrices.\n",
    "\n",
    "# 2. Why It's Important?\n",
    "o NumPy is the foundation for data science, machine learning, and scientific computing in Python.\n",
    "\n",
    "oMost other libraries like Pandas, Scikit-learn, TensorFlow, etc. rely on NumPy arrays under the hood.\n",
    "\n",
    "# 3. Key Features of NumPy\n",
    "x ndarray: Efficient n-dimensional array object.\n",
    "\n",
    "x Fast operations: Vectorized operations (addition, multiplication, etc.) are much faster than Python loops.\n",
    "\n",
    "x Broadcasting: Enables arithmetic operations between arrays of different shapes.\n",
    "\n",
    "x Mathematical functions: Includes linear algebra, statistics, random number generation, Fourier transforms, and more.\n",
    "\n",
    "x Interoperability: Works well with other libraries like Pandas, SciPy, Scikit-learn, TensorFlow, etc.\n",
    "\n",
    "# 4 Import NumPy\n",
    "import numpy as np "
   ]
  },
  {
   "cell_type": "code",
   "execution_count": 1,
   "id": "01a3c454",
   "metadata": {},
   "outputs": [],
   "source": [
    "# import numpy\n",
    "import numpy as np "
   ]
  },
  {
   "cell_type": "code",
   "execution_count": 13,
   "id": "e07a45b9",
   "metadata": {},
   "outputs": [
    {
     "name": "stdout",
     "output_type": "stream",
     "text": [
      "************** Basic List Operations *************\n",
      "Type of py_list: <class 'list'>\n",
      "Original py_list: [1, 4, 7, 8, 74, 45, 98, 19, 87]\n",
      "**************************************************\n",
      "[1, 7, 8, 74, 45, 98, 19, 87]\n",
      "**************************************************\n",
      "[1, 7, 8, 59, 74, 45, 98, 19, 87]\n",
      "**************************************************\n",
      "Length of py_list: 9\n",
      "**************************************************\n"
     ]
    }
   ],
   "source": [
    "# create a list of numbers\n",
    "py_list = [1, 4, 7, 8, 74, 45, 98, 19]\n",
    "\n",
    "# append a number to the list\n",
    "py_list.append(87)\n",
    "print(\"*\"*14,\"Basic List Operations\",\"*\"*13)\n",
    "print(f\"Type of py_list: {type(py_list)}\\nOriginal py_list: {py_list}\")\n",
    "print(\"*\"*50)\n",
    "\n",
    "# remove a number from the list\n",
    "py_list.remove(4)\n",
    "print(py_list)\n",
    "print(\"*\"*50)\n",
    "\n",
    "py_list.insert(3, 59)\n",
    "print(py_list)\n",
    "print(\"*\"*50)\n",
    "\n",
    "print(f\"Length of py_list: {len(py_list)}\")\n",
    "print(\"*\"*50)"
   ]
  },
  {
   "cell_type": "code",
   "execution_count": 17,
   "id": "4aa84f7c",
   "metadata": {},
   "outputs": [
    {
     "name": "stdout",
     "output_type": "stream",
     "text": [
      "*********** Basic Numpy Array Operations ***********\n",
      "Type of np_array: <class 'numpy.ndarray'>\n",
      "Original np_array: [12 54 69 78 31 64  7 37 84 91]\n",
      "****************************************************\n",
      "Length of np_array: 10\n",
      "****************************************************\n"
     ]
    }
   ],
   "source": [
    "# create a numpy array\n",
    "np_array = np.array([12, 54, 69, 78, 31, 64, 7, 37, 84, 91])\n",
    "print(\"*\"*11,\"Basic Numpy Array Operations\",\"*\"*11)\n",
    "print(f\"Type of np_array: {type(np_array)}\\nOriginal np_array: {np_array}\")\n",
    "print(\"*\"*52)\n",
    "print(f\"Length of np_array: {len(np_array)}\")\n",
    "print(\"*\"*52)"
   ]
  },
  {
   "cell_type": "code",
   "execution_count": 28,
   "id": "a1f5d163",
   "metadata": {},
   "outputs": [
    {
     "name": "stdout",
     "output_type": "stream",
     "text": [
      "****************** Multi-dimensional List: ******************\n",
      "Type of multi_py_list: <class 'list'>\n",
      "Original multi_py_list: [[5, 98, 14], [36, 9, 18], [3, 42, 6]]\n",
      "*************************************************************\n",
      "************** Multi-dimensional Numpy Array: ***************\n",
      "Type of np_array_2d:  <class 'numpy.ndarray'>\n",
      "Original np_array_2d:  [[12 54 69 78 31]\n",
      " [64  7 37 84 91]]\n",
      "*************************************************************\n"
     ]
    }
   ],
   "source": [
    "# multi dimensional list \n",
    "multi_py_list = [[5, 98, 14], [36, 9, 18], [3, 42, 6]]\n",
    "np_array_2d = np_array.reshape(2,5)\n",
    "\n",
    "print(\"*\"*18, \"Multi-dimensional List:\", \"*\"*18)\n",
    "print(f\"Type of multi_py_list: {type(multi_py_list)}\\nOriginal multi_py_list: {multi_py_list}\")\n",
    "print(\"*\"*61)\n",
    "\n",
    "print(\"*\"*14, \"Multi-dimensional Numpy Array:\", \"*\"*15)\n",
    "print(\"Type of np_array_2d: \", type(np_array_2d))\n",
    "print(\"Original np_array_2d: \", np_array_2d)\n",
    "print(\"*\"*61)"
   ]
  },
  {
   "cell_type": "code",
   "execution_count": 34,
   "id": "4ec54f9a",
   "metadata": {},
   "outputs": [
    {
     "name": "stdout",
     "output_type": "stream",
     "text": [
      "********* Dimension Information *********\n",
      "Number of dimensions in np_array: 1\n",
      "*****************************************\n",
      "Number of dimensions in np_array_2d: 2\n",
      "*****************************************\n"
     ]
    }
   ],
   "source": [
    "# ndim property\n",
    "print(\"*\"*9,\"Dimension Information\", \"*\"*9)\n",
    "print(f\"Number of dimensions in np_array: {np_array.ndim}\")\n",
    "print(\"*\"*41)\n",
    "print(f\"Number of dimensions in np_array_2d: {np_array_2d.ndim}\")\n",
    "print(\"*\"*41)"
   ]
  },
  {
   "cell_type": "code",
   "execution_count": null,
   "id": "15d060b8",
   "metadata": {},
   "outputs": [],
   "source": []
  }
 ],
 "metadata": {
  "kernelspec": {
   "display_name": "base",
   "language": "python",
   "name": "python3"
  },
  "language_info": {
   "codemirror_mode": {
    "name": "ipython",
    "version": 3
   },
   "file_extension": ".py",
   "mimetype": "text/x-python",
   "name": "python",
   "nbconvert_exporter": "python",
   "pygments_lexer": "ipython3",
   "version": "3.11.7"
  }
 },
 "nbformat": 4,
 "nbformat_minor": 5
}
