{
 "cells": [
  {
   "cell_type": "markdown",
   "id": "77d0e8c6",
   "metadata": {},
   "source": [
    "# 1. What is NumPy\n",
    "=> NumPy (short for Numerical Python) is a fundamental Python library used for numerical computing, especially with large, multi-dimensional arrays and matrices.\n",
    "\n",
    "# 2. Why It's Important?\n",
    "o NumPy is the foundation for data science, machine learning, and scientific computing in Python.\n",
    "\n",
    "oMost other libraries like Pandas, Scikit-learn, TensorFlow, etc. rely on NumPy arrays under the hood.\n",
    "\n",
    "# 3. Key Features of NumPy\n",
    "x ndarray: Efficient n-dimensional array object.\n",
    "\n",
    "x Fast operations: Vectorized operations (addition, multiplication, etc.) are much faster than Python loops.\n",
    "\n",
    "x Broadcasting: Enables arithmetic operations between arrays of different shapes.\n",
    "\n",
    "x Mathematical functions: Includes linear algebra, statistics, random number generation, Fourier transforms, and more.\n",
    "\n",
    "x Interoperability: Works well with other libraries like Pandas, SciPy, Scikit-learn, TensorFlow, etc.\n",
    "\n",
    "# 4 Import NumPy\n",
    "import numpy as np "
   ]
  }
 ],
 "metadata": {
  "language_info": {
   "name": "python"
  }
 },
 "nbformat": 4,
 "nbformat_minor": 5
}
