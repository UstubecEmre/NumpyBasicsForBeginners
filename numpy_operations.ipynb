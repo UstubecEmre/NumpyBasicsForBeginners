{
 "cells": [
  {
   "cell_type": "markdown",
   "id": "7d0d0490",
   "metadata": {},
   "source": [
    "# NumPy Operations"
   ]
  },
  {
   "cell_type": "code",
   "execution_count": 1,
   "id": "3fd719a7",
   "metadata": {},
   "outputs": [],
   "source": [
    "# import NumPy\n",
    "import numpy as np\n"
   ]
  },
  {
   "cell_type": "code",
   "execution_count": null,
   "id": "43718b1c",
   "metadata": {},
   "outputs": [
    {
     "name": "stdout",
     "output_type": "stream",
     "text": [
      "******************** NumPy Operations ********************\n",
      "\n",
      "\n",
      "Example of Add Operation\n",
      "[166  89 100  77 202   8 173 356  98 181]\n",
      "\n",
      "\n",
      "Example of Subtract Operation\n",
      "[ -24  -43   22   -7 -168    6  -53  -22   28  167]\n",
      "\n",
      "\n",
      "Example of Multiplication Operation\n",
      "[ 6745  1518  2379  1470  3145     7  6780 31563  2205  1218]\n"
     ]
    }
   ],
   "source": [
    "# create random number arrays\n",
    "num1 = np.random.randint(0, 200, 10)\n",
    "num2 = np.random.randint(0,200, 10)\n",
    "\n",
    "# Add operation\n",
    "sum_of_nums = num1 + num2 \n",
    "\n",
    "# Subtract operation\n",
    "subtract_of_nums = num1 - num2\n",
    "\n",
    "# Multiply operation\n",
    "multiply_of_nums = num1 * num2\n",
    "\n",
    "# Divide by operation\n",
    "divide_of_nums = num1 / num2 \n",
    "\n",
    "\n",
    "# use of trigonometric functions\n",
    "sin_num1 = np.sin(num1)\n",
    "sin_num2 = np.sin(num2)\n",
    "\n",
    "cos_num1 = np.cos(num1)\n",
    "cos_num2 = np.cos(num2)\n",
    "\n",
    "# Sqrt\n",
    "square_root_num1 = np.sqrt(num1)\n",
    "square_root_num2 = np.sqrt(num2)\n",
    "\n",
    "# log\n",
    "log_num1 = np.log(num1)\n",
    "log_num2 = np.log(num2)\n",
    "\n",
    "\n",
    "print(\"*\"*20,\"NumPy Operations\",\"*\"*20)\n",
    "print(\"\\n\")\n",
    "\n",
    "print(f\"Original num1 NumPy array: {num1}\\n\")\n",
    "print(f\"Original num2 NumPy array: {num2}\\n\")\n",
    "\n",
    "\n",
    "print(f\"Example of Add Operation\\n{sum_of_nums}\")\n",
    "\n",
    "print(\"\\n\")\n",
    "print(f\"Example of Subtract Operation\\n{subtract_of_nums}\")\n",
    "\n",
    "print(\"\\n\")\n",
    "print(f\"Example of Multiplication Operation\\n{multiply_of_nums}\")\n",
    "\n",
    "\n",
    "print(\"\\n\")\n",
    "print(f\"Example of Division Operation\\n{multiply_of_nums}\")\n",
    "\n",
    "print(\"\\n\")\n",
    "print(f\"Examples of Sinus Operation\\n\")\n",
    "print(f\"sin_num1: {sin_num1}\\n\")\n",
    "print(f\"sin_num2: {sin_num2}\\n\")\n",
    "\n",
    "print(f\"Examples of Cosinus Operation\\n\")\n",
    "print(f\"cos_num1: {cos_num1}\\n\")\n",
    "print(f\"cos_num2: {cos_num2}\\n\")\n",
    "\n",
    "print(f\"Examples of Square Root Operation\")\n",
    "print(f\"square_root_num1: {square_root_num1}\\n\")\n",
    "print(f\"square_root_num2: {square_root_num2}\\n\")\n",
    "\n",
    "print(f\"Examples of Logaritmic Operation\")\n",
    "print(f\"log_num1: {log_num1}\\n\")\n",
    "print(f\"log_num2: {log_num2}\\n\")\n"
   ]
  },
  {
   "cell_type": "code",
   "execution_count": null,
   "id": "280a26fe",
   "metadata": {},
   "outputs": [],
   "source": []
  }
 ],
 "metadata": {
  "kernelspec": {
   "display_name": "base",
   "language": "python",
   "name": "python3"
  },
  "language_info": {
   "codemirror_mode": {
    "name": "ipython",
    "version": 3
   },
   "file_extension": ".py",
   "mimetype": "text/x-python",
   "name": "python",
   "nbconvert_exporter": "python",
   "pygments_lexer": "ipython3",
   "version": "3.11.7"
  }
 },
 "nbformat": 4,
 "nbformat_minor": 5
}
