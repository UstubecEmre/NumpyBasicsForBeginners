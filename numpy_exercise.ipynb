{
 "cells": [
  {
   "cell_type": "markdown",
   "id": "20bcd1c5",
   "metadata": {},
   "source": [
    "# Numpy Exercises\n",
    "1- Create a numpy array with (30, 78, 47, 98, 41, 12, 14, 69, 32) values\n",
    "\n",
    "2- Create a numpy array between 5 and 15 \n",
    "\n",
    "3- Create a numpy array of 10 to 75 in increment five by five\n",
    "\n",
    "4- Create a 20-element array of zeros\n",
    "\n",
    "5- Create a 8-element array of ones\n",
    "\n",
    "6- Create an evenly spaced array between 40-120\n",
    "\n",
    "7- Generate 10 random numbers between 23-59\n",
    "\n",
    "8- Generate 10 random numbers between -1 and 1\n",
    "\n",
    "9- Create matrix between 0-100 in 2*3 dimensions \n",
    "\n",
    "10- Find the sum of rows and columns of the produced matrix \n",
    "\n",
    "11- Find the sum, mean, std of the produced matrix\n",
    "\n",
    "12- Find the index of the maximum element\n",
    "\n",
    "13- Print the first three elements of an array containing numbers between 100 and 200\n",
    "\n",
    "14 - Print the elements of the generated array in reverse order\n",
    "\n",
    "15- Select the first row of produced matrix\n",
    "\n",
    "16- Find the value of the generated matrix in second row and third column\n",
    "\n",
    "17- Select the first element in all rows of the generated matrix\n",
    "\n",
    "18- Print the third power of each element of the generated matrix\n",
    "\n",
    "19- Which of the matrix elements produced is a positive even number (create a numpy array between -100 and 100)\n",
    "\n",
    "20 - Make a copy of the generated matrix and add 15 to each element."
   ]
  }
 ],
 "metadata": {
  "language_info": {
   "name": "python"
  }
 },
 "nbformat": 4,
 "nbformat_minor": 5
}
