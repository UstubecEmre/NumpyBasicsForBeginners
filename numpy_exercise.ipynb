{
 "cells": [
  {
   "cell_type": "markdown",
   "id": "20bcd1c5",
   "metadata": {},
   "source": [
    "# Numpy Exercises\n",
    "1- Create a numpy array with (30, 78, 47, 98, 41, 12, 14, 69, 32) values\n",
    "\n",
    "2- Create a numpy array between 5 and 15 \n",
    "\n",
    "3- Create a numpy array of 10 to 75 in increment five by five\n",
    "\n",
    "4- Create a 20-element array of zeros\n",
    "\n",
    "5- Create a 8-element array of ones\n",
    "\n",
    "6- Generate 10 equally spaced numbers between 40 and 120\n",
    "\n",
    "7- Generate 10 random numbers between 23-59\n",
    "\n",
    "8- Generate 10 random numbers between -1 and 1\n",
    "\n",
    "9- Create matrix between 0-100 in 2*3 dimensions \n",
    "\n",
    "10- Find the sum of rows and columns of the produced matrix \n",
    "\n",
    "11- Find the sum, mean, std of the produced matrix\n",
    "\n",
    "12- Find the index of the maximum element\n",
    "\n",
    "13- Print the first three elements of an array containing numbers between 100 and 200\n",
    "\n",
    "14 - Print the elements of the generated array in reverse order\n",
    "\n",
    "15- Select the first row of produced matrix\n",
    "\n",
    "16- Find the value of the generated matrix in first row and second column\n",
    "\n",
    "17- Select the first element in all rows of the generated matrix\n",
    "\n",
    "18- Print the third power of each element of the generated matrix\n",
    "\n",
    "19- Which of the matrix elements produced is a positive even number (create a numpy array between -100 and 100)\n",
    "\n",
    "20 - Make a copy of the generated matrix and add 15 to each element."
   ]
  },
  {
   "cell_type": "code",
   "execution_count": 1,
   "id": "6b326db5",
   "metadata": {},
   "outputs": [
    {
     "name": "stdout",
     "output_type": "stream",
     "text": [
      "Result of first question: [30 78 47 98 41 12 14 69 32]\n"
     ]
    }
   ],
   "source": [
    "# import NumPy\n",
    "import numpy as np\n",
    "\n",
    "# 1.\n",
    "np_array = np.array([30, 78, 47, 98, 41, 12, 14, 69, 32])\n",
    "print(f\"Result of first question: {np_array}\")"
   ]
  },
  {
   "cell_type": "code",
   "execution_count": 2,
   "id": "0b50af38",
   "metadata": {},
   "outputs": [
    {
     "name": "stdout",
     "output_type": "stream",
     "text": [
      "Result of second question: [ 5  6  7  8  9 10 11 12 13 14]\n"
     ]
    }
   ],
   "source": [
    "# 2.\n",
    "np_arange_arr = np.arange(5, 15)\n",
    "print(f\"Result of second question: {np_arange_arr}\")"
   ]
  },
  {
   "cell_type": "code",
   "execution_count": 3,
   "id": "7b58c93b",
   "metadata": {},
   "outputs": [
    {
     "name": "stdout",
     "output_type": "stream",
     "text": [
      "Result of third question: [10 15 20 25 30 35 40 45 50 55 60 65 70]\n"
     ]
    }
   ],
   "source": [
    "# 3. \n",
    "np_increment_arr = np.arange(10, 75, 5)\n",
    "print(f\"Result of third question: {np_increment_arr}\") "
   ]
  },
  {
   "cell_type": "code",
   "execution_count": 6,
   "id": "97e21e2a",
   "metadata": {},
   "outputs": [
    {
     "name": "stdout",
     "output_type": "stream",
     "text": [
      "Result of fourth question: [0. 0. 0. 0. 0. 0. 0. 0. 0. 0. 0. 0. 0. 0. 0. 0. 0. 0. 0. 0.]\n",
      "Len of zeros_arr: 20 \n"
     ]
    }
   ],
   "source": [
    "# 4.\n",
    "zeros_arr = np.zeros(20)\n",
    "print(f\"Result of fourth question: {zeros_arr}\\nLen of zeros_arr: {len(zeros_arr)} \")"
   ]
  },
  {
   "cell_type": "code",
   "execution_count": 8,
   "id": "ca6d16d5",
   "metadata": {},
   "outputs": [
    {
     "name": "stdout",
     "output_type": "stream",
     "text": [
      "Result of fifht question: [1. 1. 1. 1. 1. 1. 1. 1.]\n",
      "Len of zeros_arr: 8 \n"
     ]
    }
   ],
   "source": [
    "# 5. \n",
    "ones_arr = np.ones(8)\n",
    "print(f\"Result of fifht question: {ones_arr}\\nLen of zeros_arr: {len(ones_arr)} \")"
   ]
  },
  {
   "cell_type": "code",
   "execution_count": null,
   "id": "a892349c",
   "metadata": {},
   "outputs": [
    {
     "name": "stdout",
     "output_type": "stream",
     "text": [
      "Result of sixth question: [ 40.          48.88888889  57.77777778  66.66666667  75.55555556\n",
      "  84.44444444  93.33333333 102.22222222 111.11111111 120.        ]\n",
      "Length of linspace_np_arr: 10\n",
      "Amount of increment between elements: 8.888888888888886\n"
     ]
    }
   ],
   "source": [
    "# 6. \n",
    "linspace_np_arr = np.linspace(40, 120, 10)\n",
    "print(f\"Result of sixth question: {linspace_np_arr}\\nLength of linspace_np_arr: {len(linspace_np_arr)}\\nAmount of increment between elements: {linspace_np_arr[-1] - linspace_np_arr[-2]}\")"
   ]
  },
  {
   "cell_type": "code",
   "execution_count": 14,
   "id": "710ce3fa",
   "metadata": {},
   "outputs": [
    {
     "name": "stdout",
     "output_type": "stream",
     "text": [
      "Result of seventh question: [27 44 23 28 48 28 53 47 35 26]\n",
      "Lenght of random_arr: 10\n"
     ]
    }
   ],
   "source": [
    "# 7.\n",
    "random_arr = np.random.randint(23, 59, 10)\n",
    "print(f\"Result of seventh question: {random_arr}\\nLenght of random_arr: {len(random_arr)}\")"
   ]
  },
  {
   "cell_type": "code",
   "execution_count": 20,
   "id": "b9028bb6",
   "metadata": {},
   "outputs": [
    {
     "name": "stdout",
     "output_type": "stream",
     "text": [
      "Result of eighth question: [-0.25287092  0.41596062  1.05169335  1.44487621 -0.14325857  0.43442784\n",
      "  1.74215623  0.04187697 -0.67557684 -0.68327673]\n",
      "Length of random_nums: 10\n"
     ]
    }
   ],
   "source": [
    "# 8\n",
    "random_nums = np.random.randn(10)\n",
    "print(f\"Result of eighth question: {random_nums}\\nLength of random_nums: {len(random_nums)}\")"
   ]
  },
  {
   "cell_type": "code",
   "execution_count": 22,
   "id": "a63d9e35",
   "metadata": {},
   "outputs": [
    {
     "name": "stdout",
     "output_type": "stream",
     "text": [
      "Result of ninth question: [[ 9 38 72]\n",
      " [86 27 68]]\n",
      "Shape of multi_np_arr: (2, 3)\n",
      "Dimension of multi_np_arr: 2 \n"
     ]
    }
   ],
   "source": [
    "# 9\n",
    "multi_np_arr = np.random.randint(0, 100, (2, 3))\n",
    "print(f\"Result of ninth question: {multi_np_arr}\\nShape of multi_np_arr: {multi_np_arr.shape}\\nDimension of multi_np_arr: {multi_np_arr.ndim} \")"
   ]
  },
  {
   "cell_type": "code",
   "execution_count": 23,
   "id": "7603b790",
   "metadata": {},
   "outputs": [
    {
     "name": "stdout",
     "output_type": "stream",
     "text": [
      "Result of tenth question:\n",
      "Sum of each rows: [119 181]\n",
      "Sum of each columns: [ 95  65 140]\n"
     ]
    }
   ],
   "source": [
    "# 10.\n",
    "sum_of_rows = multi_np_arr.sum(axis = 1)\n",
    "sum_of_cols = multi_np_arr.sum(axis = 0)\n",
    "\n",
    "print(f\"Result of tenth question:\\nSum of each rows: {sum_of_rows}\\nSum of each columns: {sum_of_cols}\")"
   ]
  },
  {
   "cell_type": "code",
   "execution_count": 27,
   "id": "d7bf2dab",
   "metadata": {},
   "outputs": [
    {
     "name": "stdout",
     "output_type": "stream",
     "text": [
      "Result of eleventh question: \n",
      "\n",
      "Sum of multi_np_arr: 300\n",
      "\n",
      "Mean of multi_np_arr: 50.0\n",
      "\n",
      "Standart deviation of multi_np_arr: 27.258026340878022\n",
      "\n",
      "Variance of multi_np_arr: 743.0\n",
      "\n",
      "Maximum value of multi_np_arr: 86\n",
      "\n",
      "The index of the maximum value in multi_np_arr: 3\n",
      "\n",
      "Minimum value of multi_np_arr: 9\n",
      "\n",
      "The index of the minimum value in multi_np_arr: 0\n",
      "\n"
     ]
    }
   ],
   "source": [
    "# 11. \n",
    "sum_of_multi_np_arr = multi_np_arr.sum()\n",
    "mean_of_multi_np_arr = multi_np_arr.mean()\n",
    "std_of_multi_np_arr = multi_np_arr.std()\n",
    "variance_of_multi_np_arr = multi_np_arr.var()\n",
    "max_element = multi_np_arr.max()\n",
    "max_element_index = multi_np_arr.argmax()\n",
    "min_element = multi_np_arr.min()\n",
    "min_element_index = multi_np_arr.argmin()\n",
    "print(f\"Result of eleventh question: \\n\")\n",
    "print(f\"Sum of multi_np_arr: {sum_of_multi_np_arr}\\n\")\n",
    "print(f\"Mean of multi_np_arr: {mean_of_multi_np_arr}\\n\")\n",
    "print(f\"Standart deviation of multi_np_arr: {std_of_multi_np_arr}\\n\")\n",
    "print(f\"Variance of multi_np_arr: {variance_of_multi_np_arr}\\n\")\n",
    "print(f\"Maximum value of multi_np_arr: {max_element}\\n\")\n",
    "print(f\"The index of the maximum value in multi_np_arr: {max_element_index}\\n\")\n",
    "print(f\"Minimum value of multi_np_arr: {min_element}\\n\")\n",
    "print(f\"The index of the minimum value in multi_np_arr: {min_element_index}\\n\")\n",
    "\n"
   ]
  },
  {
   "cell_type": "code",
   "execution_count": 28,
   "id": "efe8840e",
   "metadata": {},
   "outputs": [
    {
     "name": "stdout",
     "output_type": "stream",
     "text": [
      "Result of twelfth question:\n",
      "\n",
      "The index of the maximum value in multi_np_arr: 3\n",
      "\n"
     ]
    }
   ],
   "source": [
    "# 12. \n",
    "print(\"Result of twelfth question:\\n\")\n",
    "print(f\"The index of the maximum value in multi_np_arr: {max_element_index}\\n\")"
   ]
  },
  {
   "cell_type": "code",
   "execution_count": 33,
   "id": "9ab7551c",
   "metadata": {},
   "outputs": [
    {
     "name": "stdout",
     "output_type": "stream",
     "text": [
      "Result of thirteenth question\n",
      "Original new_rand_arr: [198 110 128 180 147 167 105 185 146 143]\n",
      "The first three elements of new_rand_arr: [198 110 128]\n"
     ]
    }
   ],
   "source": [
    "# 13\n",
    "new_rand_arr = np.random.randint(100, 200, 10)\n",
    "print(f\"Result of thirteenth question\")\n",
    "print(f\"Original new_rand_arr: {new_rand_arr}\\nThe first three elements of new_rand_arr: {new_rand_arr[:3]}\")"
   ]
  },
  {
   "cell_type": "code",
   "execution_count": 32,
   "id": "b0798a2c",
   "metadata": {},
   "outputs": [
    {
     "name": "stdout",
     "output_type": "stream",
     "text": [
      "Result of fourteenth question:\n",
      "Reversed_new_randd_arr: [104 117 131 100 140 145 171 158 158 176]\n"
     ]
    }
   ],
   "source": [
    "# 14.\n",
    "reversed_new_rand_arr = new_rand_arr[::-1]\n",
    "print(\"Result of fourteenth question:\")\n",
    "print(f\"Reversed_new_randd_arr: {reversed_new_rand_arr}\")"
   ]
  },
  {
   "cell_type": "code",
   "execution_count": 35,
   "id": "da01411e",
   "metadata": {},
   "outputs": [
    {
     "name": "stdout",
     "output_type": "stream",
     "text": [
      "Result of fifteenth question:\n",
      "Original multi_np_arr: [[ 9 38 72]\n",
      " [86 27 68]]\n",
      "\n",
      "First row of multi_np_arr: [86 27 68]\n"
     ]
    }
   ],
   "source": [
    "# 15.\n",
    "print(\"Result of fifteenth question:\")\n",
    "print(f\"Original multi_np_arr: {multi_np_arr}\\n\")\n",
    "first_row_multi_dim_arr = multi_np_arr[1, :]\n",
    "print(f\"First row of multi_np_arr: {first_row_multi_dim_arr}\")"
   ]
  },
  {
   "cell_type": "code",
   "execution_count": null,
   "id": "788796a1",
   "metadata": {},
   "outputs": [
    {
     "name": "stdout",
     "output_type": "stream",
     "text": [
      "Result of sixteenth question:\n",
      "First row and second column of multi_np_arr: 68\n"
     ]
    }
   ],
   "source": [
    "# 16.\n",
    "first_row_second_col = multi_np_arr[1, 2]\n",
    "print(\"Result of sixteenth question:\")\n",
    "print(f\"First row and second column of multi_np_arr: {first_row_second_col}\")"
   ]
  },
  {
   "cell_type": "code",
   "execution_count": 37,
   "id": "41267320",
   "metadata": {},
   "outputs": [
    {
     "name": "stdout",
     "output_type": "stream",
     "text": [
      "Result of seventeenth question:\n",
      "First element of all rows: [ 9 86]\n"
     ]
    }
   ],
   "source": [
    "# 17. \n",
    "selected_all_rows_arr = multi_np_arr[:, 0]\n",
    "print(f\"Result of seventeenth question:\\nFirst element of all rows: {selected_all_rows_arr}\") "
   ]
  },
  {
   "cell_type": "code",
   "execution_count": 38,
   "id": "de4b6ce4",
   "metadata": {},
   "outputs": [
    {
     "name": "stdout",
     "output_type": "stream",
     "text": [
      "Result of eighteenth question:\n",
      "The third exponent of all numbers in the multi_np_arr: [[   729  54872 373248]\n",
      " [636056  19683 314432]]\n"
     ]
    }
   ],
   "source": [
    "# 18.\n",
    "third_exponent_of_arr = multi_np_arr ** 3\n",
    "print(f\"Result of eighteenth question:\\nThe third exponent of all numbers in the multi_np_arr: {third_exponent_of_arr}\")"
   ]
  },
  {
   "cell_type": "code",
   "execution_count": null,
   "id": "0b79d465",
   "metadata": {},
   "outputs": [
    {
     "name": "stdout",
     "output_type": "stream",
     "text": [
      "Result of nineteenth question:\n",
      "\n",
      "new_np_arr:  [ 78  91 -52 -47  22  42  59 -55  83 -88  13 -24  82  56  -5 -97  71 -73\n",
      " -22 -24]\n",
      "Positive even numbers in new_np_arr:[78 22 42 82 56]\n"
     ]
    }
   ],
   "source": [
    "# 19. \n",
    "print(\"Result of nineteenth question:\\n\")\n",
    "new_np_arr = np.random.randint(-100, 100, 20)\n",
    "print(\"new_np_arr: \",new_np_arr)\n",
    "filtered = new_np_arr[(new_np_arr > 0) & (new_np_arr % 2 == 0)]\n",
    "even_elements = filtered\n",
    "print(f\"Positive even numbers in new_np_arr:{filtered}\")"
   ]
  },
  {
   "cell_type": "code",
   "execution_count": 48,
   "id": "1bd3b9db",
   "metadata": {},
   "outputs": [
    {
     "name": "stdout",
     "output_type": "stream",
     "text": [
      "Result of twentieth question:\n",
      "Original new_np_copy: [ 78  91 -52 -47  22  42  59 -55  83 -88  13 -24  82  56  -5 -97  71 -73\n",
      " -22 -24]\n",
      "\n",
      "Fifteen added numpy array: [ 93 106 -37 -32  37  57  74 -40  98 -73  28  -9  97  71  10 -82  86 -58\n",
      "  -7  -9]\n"
     ]
    }
   ],
   "source": [
    "new_np_copy = new_np_arr.copy()\n",
    "added_new_np_copy = new_np_copy + 15\n",
    "print(f\"Result of twentieth question:\")\n",
    "print(f\"Original new_np_copy: {new_np_copy}\\n\")\n",
    "print(f\"Fifteen added numpy array: {added_new_np_copy}\")"
   ]
  },
  {
   "cell_type": "code",
   "execution_count": null,
   "id": "a434afb1",
   "metadata": {},
   "outputs": [],
   "source": []
  }
 ],
 "metadata": {
  "kernelspec": {
   "display_name": "base",
   "language": "python",
   "name": "python3"
  },
  "language_info": {
   "codemirror_mode": {
    "name": "ipython",
    "version": 3
   },
   "file_extension": ".py",
   "mimetype": "text/x-python",
   "name": "python",
   "nbconvert_exporter": "python",
   "pygments_lexer": "ipython3",
   "version": "3.11.7"
  }
 },
 "nbformat": 4,
 "nbformat_minor": 5
}
