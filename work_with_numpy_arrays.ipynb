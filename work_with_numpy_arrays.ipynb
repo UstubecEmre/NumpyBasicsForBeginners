{
 "cells": [
  {
   "cell_type": "markdown",
   "id": "e024ce36",
   "metadata": {},
   "source": [
    "# Work With Numpy Arrays"
   ]
  },
  {
   "cell_type": "code",
   "execution_count": 2,
   "id": "8b795bee",
   "metadata": {},
   "outputs": [],
   "source": [
    "# import numpy \n",
    "import numpy as np\n"
   ]
  },
  {
   "cell_type": "code",
   "execution_count": null,
   "id": "af6204eb",
   "metadata": {},
   "outputs": [
    {
     "name": "stdout",
     "output_type": "stream",
     "text": [
      "*************************** Basic Numpy Array Operations ***************************\n",
      "np_array: [1 9 2 8 3 7 4 6 5]\n",
      "*************************************************************************************\n",
      "arange_array: [17 21 25 29 33 37 41]\n",
      "Items in arange_array: 7\n",
      "*************************************************************************************\n",
      "zeros_array:\n",
      "[[0. 0.]\n",
      " [0. 0.]\n",
      " [0. 0.]]\n",
      "Items in zeros_array: 6\n",
      "*************************************************************************************\n",
      "ones_array:\n",
      "[[1. 1.]\n",
      " [1. 1.]\n",
      " [1. 1.]]\n",
      "Items in ones_array: 6\n",
      "*************************************************************************************\n",
      "linspace_array: [  0.          11.11111111  22.22222222  33.33333333  44.44444444\n",
      "  55.55555556  66.66666667  77.77777778  88.88888889 100.        ]\n",
      "Items in linspace_array: 10\n",
      "*************************************************************************************\n",
      "random_array:1\n",
      "*************************************************************************************\n",
      "random_array_2d:\n",
      "[[ 7  9  9]\n",
      " [11  2  4]\n",
      " [14 11 10]]\n",
      "Items in random_array_2d: 9\n",
      "*************************************************************************************\n",
      "random_rand_array: [0.31807454 0.26077423 0.94359374 0.89201836 0.94380455]\n",
      "*************************************************************************************\n"
     ]
    }
   ],
   "source": [
    "# create a numpy array\n",
    "# add a title \n",
    "print(\"*\"*27,\"Basic Numpy Array Operations\",\"*\"*27)\n",
    "\n",
    "\n",
    "np_array = np.array([1, 9, 2, 8, 3, 7, 4, 6, 5])\n",
    "print(f\"np_array: {np_array}\")\n",
    "print(\"*\"*85)\n",
    "\n",
    "# arange array\n",
    "arange_array = np.arange(17, 45, 4) # start, stop, step\n",
    "print(f\"arange_array: {arange_array}\\nItems in arange_array: {arange_array.size}\")\n",
    "print(\"*\"*85)\n",
    "\n",
    "# zeros method for 1D arrays\n",
    "zeros_array= np.zeros((3, 2)) # shape (rows, columns)\n",
    "print(f\"zeros_array:\\n{zeros_array}\\nItems in zeros_array: {zeros_array.size}\")\n",
    "print(\"*\"*85)\n",
    "\n",
    "# ones method for 2D arrays\n",
    "ones_array = np.ones((3, 2)) # shape (rows, columns)\n",
    "print(f\"ones_array:\\n{ones_array}\\nItems in ones_array: {ones_array.size}\")\n",
    "print(\"*\"*85)\n",
    "\n",
    "# linspace method for 1D arrays\n",
    "linspace_array = np.linspace(0, 100, 10) # start, stop, number of items\n",
    "print(f\"linspace_array: {linspace_array}\\nItems in linspace_array: {linspace_array.size}\")    \n",
    "print(\"*\"*85)\n",
    "\n",
    "\n",
    "# randint method for 1D and 2D arrays\n",
    "random_array = np.random.randint(0, 10) # random integer between 0 and 10\n",
    "print(f\"random_array:{random_array}\")\n",
    "print(\"*\"*85)\n",
    "\n",
    "\n",
    "\n",
    "random_array_2d = np.random.randint(0, 20, (3, 3)) # random integers between 0 and 20 in a 3x3 array\n",
    "print(f\"random_array_2d:\\n{random_array_2d}\\nItems in random_array_2d: {random_array_2d.size}\")\n",
    "print(\"*\"*85)\n",
    "\n",
    "# random.rand method \n",
    "random_rand_array = np.random.rand(5) # random floats between 0 and 1\n",
    "print(f\"random_rand_array: {random_rand_array}\")\n",
    "print(\"*\"*85)\n",
    "\n",
    "\n"
   ]
  },
  {
   "cell_type": "code",
   "execution_count": null,
   "id": "0f62da58",
   "metadata": {},
   "outputs": [
    {
     "name": "stdout",
     "output_type": "stream",
     "text": [
      "**************************** Numpy Array Manipulations ****************************\n",
      "np_array: [ 0  1  2  3  4  5  6  7  8  9 10 11 12 13 14 15 16 17 18 19 20 21 22 23\n",
      " 24 25 26 27 28 29 30 31 32 33 34 35 36 37 38 39 40 41 42 43 44 45 46 47\n",
      " 48 49]\n",
      "***********************************************************************************\n",
      "np_array_reshaped:\n",
      "[[ 0  1  2  3  4  5  6  7  8  9]\n",
      " [10 11 12 13 14 15 16 17 18 19]\n",
      " [20 21 22 23 24 25 26 27 28 29]\n",
      " [30 31 32 33 34 35 36 37 38 39]\n",
      " [40 41 42 43 44 45 46 47 48 49]]\n",
      "Items in np_array_reshaped: 50\n",
      "***********************************************************************************\n",
      "rows_total_sum: [ 45 145 245 345 445]\n",
      "***********************************************************************************\n",
      "columns_total_sum: [100 105 110 115 120 125 130 135 140 145]\n",
      "***********************************************************************************\n"
     ]
    }
   ],
   "source": [
    "# np_array manipulations\n",
    "print(\"*\"*28,\"Numpy Array Manipulations\",\"*\"*28)\n",
    "np_array = np.arange(0,50)\n",
    "print(f\"np_array: {np_array}\")\n",
    "print(\"*\"*83)\n",
    "\n",
    "# reshape the array to 5 rows and 10 columns\n",
    "np_array_reshaped = np_array.reshape(5, 10)  \n",
    "print(f\"np_array_reshaped:\\n{np_array_reshaped}\\nItems in np_array_reshaped: {np_array_reshaped.size}\")\n",
    "print(\"*\"*83)\n",
    "\n",
    "# print rows and columns total sum\n",
    "rows_total_sum = np_array_reshaped.sum(axis=1)  # sum along rows\n",
    "print(f\"rows_total_sum: {rows_total_sum}\")\n",
    "print(\"*\"*83)\n",
    "\n",
    "\n",
    "columns_total_sum = np_array_reshaped.sum(axis=0)  # sum along columns\n",
    "print(f\"columns_total_sum: {columns_total_sum}\")\n",
    "print(\"*\"*83) "
   ]
  },
  {
   "cell_type": "code",
   "execution_count": 21,
   "id": "58511b24",
   "metadata": {},
   "outputs": [
    {
     "name": "stdout",
     "output_type": "stream",
     "text": [
      "**************************** Numpy Array Statistics ****************************\n",
      "rnd_nums: [77 22 58 79 78 30 65 58]\n",
      "********************************************************************************\n",
      "Maximum value in rnd_nums: 79\n",
      "********************************************************************************\n",
      "Index of maximum value in rnd_nums: 3\n",
      "********************************************************************************\n",
      "Minimum value in rnd_nums: 22\n",
      "********************************************************************************\n",
      "Index of minimum value in rnd_nums: 1\n",
      "********************************************************************************\n",
      "Mean value in rnd_nums: 58.375\n",
      "********************************************************************************\n",
      "Standart deviation in rnd_nums: 20.40182283522725\n",
      "********************************************************************************\n",
      "Variance in rnd_nums: 416.234375\n",
      "********************************************************************************\n",
      "Median value in rnd_nums: 61.5\n",
      "********************************************************************************\n"
     ]
    }
   ],
   "source": [
    "# add a title for the next section\n",
    "print(\"*\"*28,\"Numpy Array Statistics\",\"*\"*28)\n",
    "\n",
    "# generate random integers between 20 and 80\n",
    "rnd_nums = np.random.randint(20, 80, 8)  # random integers between 20 and 80\n",
    "print(f\"rnd_nums: {rnd_nums}\")\n",
    "print(\"*\"*80)\n",
    "\n",
    "# print maximum and minimum values, their indices, mean, standard deviation, variance, and median\n",
    "print(f\"Maximum value in rnd_nums: {rnd_nums.max()}\")\n",
    "print(\"*\"*80)\n",
    "print(\"Index of maximum value in rnd_nums:\", rnd_nums.argmax())\n",
    "print(\"*\"*80)\n",
    "\n",
    "print(f\"Minimum value in rnd_nums: {rnd_nums.min()}\")\n",
    "print(\"*\"*80)\n",
    "print(f\"Index of minimum value in rnd_nums:\", rnd_nums.argmin())\n",
    "print(\"*\"*80)\n",
    "\n",
    "print(f\"Mean value in rnd_nums: {rnd_nums.mean()}\")\n",
    "print(\"*\"*80)\n",
    "\n",
    "print(f\"Standart deviation in rnd_nums: {rnd_nums.std()}\")\n",
    "print(\"*\"*80)\n",
    "\n",
    "print(f\"Variance in rnd_nums: {rnd_nums.var()}\")\n",
    "print(\"*\"*80)\n",
    "\n",
    "print(f\"Median value in rnd_nums: {np.median(rnd_nums)}\")\n",
    "print(\"*\"*80)\n",
    "\n",
    "# print(len(\"**************************** Numpy Array Statistics ****************************\"))"
   ]
  },
  {
   "cell_type": "code",
   "execution_count": null,
   "id": "88b57926",
   "metadata": {},
   "outputs": [],
   "source": []
  },
  {
   "cell_type": "code",
   "execution_count": null,
   "id": "a10a654d",
   "metadata": {},
   "outputs": [],
   "source": []
  }
 ],
 "metadata": {
  "kernelspec": {
   "display_name": "base",
   "language": "python",
   "name": "python3"
  },
  "language_info": {
   "codemirror_mode": {
    "name": "ipython",
    "version": 3
   },
   "file_extension": ".py",
   "mimetype": "text/x-python",
   "name": "python",
   "nbconvert_exporter": "python",
   "pygments_lexer": "ipython3",
   "version": "3.11.7"
  }
 },
 "nbformat": 4,
 "nbformat_minor": 5
}
